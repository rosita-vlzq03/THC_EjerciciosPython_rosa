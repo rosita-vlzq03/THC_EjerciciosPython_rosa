{
  "nbformat": 4,
  "nbformat_minor": 0,
  "metadata": {
    "colab": {
      "provenance": [],
      "authorship_tag": "ABX9TyPqD7vbJI7wsbcXvlA1UUoE",
      "include_colab_link": true
    },
    "kernelspec": {
      "name": "python3",
      "display_name": "Python 3"
    },
    "language_info": {
      "name": "python"
    }
  },
  "cells": [
    {
      "cell_type": "markdown",
      "metadata": {
        "id": "view-in-github",
        "colab_type": "text"
      },
      "source": [
        "<a href=\"https://colab.research.google.com/github/rosita-vlzq03/THC_EjerciciosPython_rosa/blob/main/Ejercicio02_10.ipynb\" target=\"_parent\"><img src=\"https://colab.research.google.com/assets/colab-badge.svg\" alt=\"Open In Colab\"/></a>"
      ]
    },
    {
      "cell_type": "code",
      "execution_count": 16,
      "metadata": {
        "colab": {
          "base_uri": "https://localhost:8080/"
        },
        "id": "JP2bq5ibHuH6",
        "outputId": "17f822e3-b040-4f52-89e7-80f9264c0fbe"
      },
      "outputs": [
        {
          "output_type": "stream",
          "name": "stdout",
          "text": [
            "El área de la superficie del esferoide es 510065621724078.94\n",
            "La superficie de una esfera con radio 6,371km es 510064471909788.25\n",
            "La diferencia entre ambos resultados es de  0.00022542477707103626 %\n"
          ]
        }
      ],
      "source": [
        "#Importando la libreria math\n",
        "import math\n",
        "\n",
        "#Forma de la tierra\n",
        "#Semiejes mayor y menor denotado por a y c.\n",
        "\n",
        "a=6378137.0\n",
        "c=6356752.314245\n",
        "e2=1-((c**2)/(a**2))\n",
        "e1=math.sqrt(e2)\n",
        "r = 6371\n",
        "r_metro=6371*1000\n",
        "\n",
        "#Fórmula para el área de superficie de un esferoide oblato\n",
        "\n",
        "s_obl=2*(math.pi)*(a**2)*(1+((1-e2)/e1)*math.atanh(e1))\n",
        "\n",
        "#Fórmula para la superficie de una esfera, suponiendo r=6371\n",
        "area_esf=4*math.pi*(r_metro**2)\n",
        "\n",
        "#Diferencia entre los resultados obtenidos\n",
        "dif=(s_obl-area_esf)/s_obl*100\n",
        "\n",
        "print('El área de la superficie del esferoide es',s_obl)\n",
        "print('La superficie de una esfera con radio 6,371km es',round(area_esf,3))\n",
        "print('La diferencia entre ambos resultados es de ',dif,'%')"
      ]
    },
    {
      "cell_type": "code",
      "source": [
        "a = 33\n",
        "b = 200\n",
        "if b > a:\n",
        "  print(\"b mayor que a\")"
      ],
      "metadata": {
        "colab": {
          "base_uri": "https://localhost:8080/"
        },
        "id": "Ef5XCmlhSvnM",
        "outputId": "5ec3d80c-53ca-4603-ecfa-027615df98ad"
      },
      "execution_count": 17,
      "outputs": [
        {
          "output_type": "stream",
          "name": "stdout",
          "text": [
            "b mayor que a\n"
          ]
        }
      ]
    },
    {
      "cell_type": "markdown",
      "source": [
        "Escribe un programa que pida al usuario su edad (entero), y muestre su categoría de acuerdo a las siguientes reglas:\n",
        "\n",
        "1. Niño/a: 0 a 11 años\n",
        "2. Adolescente: 12 a 17 años\n",
        "3. Joven: 18 a 29 años\n",
        "4. Adulto: 30 a 64 años\n",
        "5. Adulto mayor: 65 o más años\n",
        "\n",
        "si el usuario ingresa un número negativo, que ejecute de nuevo el programa."
      ],
      "metadata": {
        "id": "4uYjxppdXtK8"
      }
    },
    {
      "cell_type": "code",
      "source": [
        "edad=int(input('Ingrese su edad:'))\n",
        "\n",
        "if edad>=0 and edad<=11:\n",
        "  print('Niño/a')\n",
        "elif edad>11 and edad<=17:\n",
        "    print('Adolescente')\n",
        "elif edad>17 and edad<=29:\n",
        "    print('Joven')\n",
        "elif edad>29 and edad<=64:\n",
        "    print('Adulto')\n",
        "elif edad>65:\n",
        "    print('Adulto mayor')\n",
        "else:\n",
        "    print('Ingrese una edad válida')\n",
        "\n"
      ],
      "metadata": {
        "colab": {
          "base_uri": "https://localhost:8080/"
        },
        "id": "AfGiuj8PW7I8",
        "outputId": "e3c6d7de-ff59-4ab0-bb9a-2fc973f5e832"
      },
      "execution_count": 27,
      "outputs": [
        {
          "output_type": "stream",
          "name": "stdout",
          "text": [
            "Ingrese su edad:-5\n",
            "Ingrese una edad válida\n"
          ]
        }
      ]
    }
  ]
}